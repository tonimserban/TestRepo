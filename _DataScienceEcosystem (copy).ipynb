{
  "metadata": {
    "kernelspec": {
      "name": "python",
      "display_name": "Python (Pyodide)",
      "language": "python"
    },
    "language_info": {
      "codemirror_mode": {
        "name": "python",
        "version": 3
      },
      "file_extension": ".py",
      "mimetype": "text/x-python",
      "name": "python",
      "nbconvert_exporter": "python",
      "pygments_lexer": "ipython3",
      "version": "3.8"
    }
  },
  "nbformat_minor": 5,
  "nbformat": 4,
  "cells": [
    {
      "id": "14921e0d-73f9-4623-9823-32a96e7cffaf",
      "cell_type": "markdown",
      "source": "<h1> Data Science Tools and Ecosystem",
      "metadata": {}
    },
    {
      "id": "be9cc5e7-294c-46f6-ba70-da167e501685",
      "cell_type": "markdown",
      "source": "In this notebook, Data Science Tools and Ecosystem are summarized.",
      "metadata": {}
    },
    {
      "id": "b809714e-5da8-4169-a58c-eade816edd45",
      "cell_type": "markdown",
      "source": "<b> Objectives:\n* List popular languages for Data Science.\n* CList data science libraries\n* Create a table of Data Science tools",
      "metadata": {}
    },
    {
      "id": "18be6f6a-9640-4958-a227-ad5693c9e934",
      "cell_type": "markdown",
      "source": "Some of the popular languages that Data Scientists use are:\n1. Python\n2. C++\n3. R",
      "metadata": {}
    },
    {
      "id": "0c9b1cdd-c218-4e2d-86f6-0cb2d396e6e0",
      "cell_type": "markdown",
      "source": "Some of the commonly used libraries used by Data Scientists include:\n1. Tensor Flow\n2. Plotly\n3. NumPy",
      "metadata": {}
    },
    {
      "id": "d83b4f3f-0921-45ce-84a2-792c53fd1196",
      "cell_type": "markdown",
      "source": "|Data Science Tools|\n|---|\n|RStudio|\n|TensorFlow|\n|Apache Spark|",
      "metadata": {}
    },
    {
      "id": "c4e24102-60de-4f4a-9121-3db2c2e10c4d",
      "cell_type": "markdown",
      "source": "<h3> Below are a few examples of evaluating arithmetic expressions in Python",
      "metadata": {}
    },
    {
      "id": "6adadbcc-05b8-4f05-894d-3eab1378494b",
      "cell_type": "markdown",
      "source": "This a simple arithmetic expression to mutiply then add integers",
      "metadata": {}
    },
    {
      "id": "88f4f35a-4472-40cb-b252-a92d4c5febb6",
      "cell_type": "code",
      "source": "(3*4)+5\n",
      "metadata": {
        "trusted": true
      },
      "outputs": [
        {
          "execution_count": 4,
          "output_type": "execute_result",
          "data": {
            "text/plain": "17"
          },
          "metadata": {}
        }
      ],
      "execution_count": 4
    },
    {
      "id": "4f306381-0b80-4fca-8112-9e001f522857",
      "cell_type": "markdown",
      "source": "This will convert 200 minutes to hours by diving by 60",
      "metadata": {}
    },
    {
      "id": "a459cc30-018d-4ea1-9730-cb06e541c1c0",
      "cell_type": "code",
      "source": "200/60",
      "metadata": {
        "trusted": true
      },
      "outputs": [
        {
          "execution_count": 5,
          "output_type": "execute_result",
          "data": {
            "text/plain": "3.3333333333333335"
          },
          "metadata": {}
        }
      ],
      "execution_count": 5
    },
    {
      "id": "0d8e424a-8299-4d4c-8435-ee5d1e242890",
      "cell_type": "markdown",
      "source": "<h2> Author\n<h4>Toni Serban",
      "metadata": {}
    }
  ]
}